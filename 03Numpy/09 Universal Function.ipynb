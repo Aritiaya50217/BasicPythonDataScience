{
 "cells": [
  {
   "cell_type": "code",
   "execution_count": 14,
   "metadata": {},
   "outputs": [
    {
     "name": "stdout",
     "output_type": "stream",
     "text": [
      "[6 8 3 2 5]\n",
      "ผลรวมของ a :  24 \n",
      "\n",
      "[[8 7 6]\n",
      " [8 6 3]\n",
      " [5 1 8]]\n",
      "ผลรวมของ a2 :  52 \n",
      "\n",
      "ผลรวมของแถวในแนวตั้ง ของ a2 :  [21 14 17]\n",
      "ผลรวมของแถวในแนวนอน ของ a2 :  [21 17 14]\n"
     ]
    }
   ],
   "source": [
    "# sum()  หาผลรวมขอสมาชิกอาร์เรย์\n",
    "# cumsum() หาผลบวกสะสมของสมาชิก\n",
    "# min() ,max()  หาค่าต่ำสุด และสูงสุดของสมาชิก \n",
    "# mean() หาค่าเฉลี่ย\n",
    "# sort()  เรียงลำดับค่าในสมาชิกจากน้อยไปมาก\n",
    "# unique()  เลือกสมาชิกที่มีค่าไม่ซ้ำกัน\n",
    "# concatenate()  ผนวกสมาชิกระหว่างอาร์เรย์เข้าด้วยกัน\n",
    "# vstack() , hstack()  ผนวกสมาชิกระหว่างอาร์เรย์ในแนวตั้งและแนวนอน \n",
    "# view()  คัดลอกสมาชิกในแบบ shallow copy(แบบอ้างอิงค่า)\n",
    "# copy  คัดลอกสมาชิกในแบบ deep copy\n",
    "# reshape()  เปลี่ยนขนาดของอาร์เรย์ ในแบบ shallow copy\n",
    "# resize()  เปลี่ยนขนาดของอาร์เรย์ในแบบ deep copy\n",
    "\n",
    "import numpy as np\n",
    "\n",
    "a = np.random.randint(1,10,5)\n",
    "s = np.sum(a)\n",
    "\n",
    "a2 = np.random.randint(1,10,(3,3))\n",
    "s2 = np.sum(a2)\n",
    "\n",
    "# axis = 0  ดำเนินการระหว่างแถวกับสมาชิกในแนวนอน\n",
    "# axis = 1  ดำเนินการระหว่างแถวกับสมาชิกในแนวตั้ง\n",
    "s2_ax0 = np.sum(a2,axis=0)\n",
    "s2_ax1 = np.sum(a2,axis=1)\n",
    "\n",
    "print(a)\n",
    "print('ผลรวมของ a : ',s,'\\n')\n",
    "print(a2)\n",
    "print('ผลรวมของ a2 : ',s2,'\\n')\n",
    "print('ผลรวมของแถวในแนวตั้ง ของ a2 : ', s2_ax0)\n",
    "print('ผลรวมของแถวในแนวนอน ของ a2 : ', s2_ax1)"
   ]
  },
  {
   "cell_type": "code",
   "execution_count": 20,
   "metadata": {},
   "outputs": [
    {
     "name": "stdout",
     "output_type": "stream",
     "text": [
      "สุ่มตัวเลข 1 - 10 มา 5  จำนวน :  [9 4 6 8 9]\n",
      "ผลบวกสะสมของสมาชิก :  [ 9 13 19 27 36] \n",
      "\n",
      "[[8 7 4]\n",
      " [6 8 7]\n",
      " [6 4 3]] \n",
      "\n",
      "[ 8 15 19 25 33 40 46 50 53] \n",
      "\n",
      "ผลบวกสะสมของสมาชิก ในแนวตั้ง : \n",
      " [[ 8  7  4]\n",
      " [14 15 11]\n",
      " [20 19 14]]\n",
      "ผลบวกสะสมของสมาชิก ในแนวนอน : \n",
      " [[ 8 15 19]\n",
      " [ 6 14 21]\n",
      " [ 6 10 13]]\n"
     ]
    }
   ],
   "source": [
    "import numpy as np\n",
    "\n",
    "a1 = np.random.randint(1,10,5)\n",
    "cs1 = np.cumsum(a1)\n",
    "\n",
    "a2 = np.random.randint(1,10,(3,3))\n",
    "cs2 = np.cumsum(a2)\n",
    "\n",
    "cs2_ax0 = np.cumsum(a2,axis = 0)\n",
    "cs2_ax1 = np.cumsum(a2,axis = 1)\n",
    "\n",
    "\n",
    "print('สุ่มตัวเลข 1 - 10 มา 5  จำนวน : ',a1)\n",
    "print('ผลบวกสะสมของสมาชิก : ',cs1,'\\n')\n",
    "print(a2,'\\n')\n",
    "print(cs2,'\\n')\n",
    "print('ผลบวกสะสมของสมาชิก ในแนวตั้ง : \\n',cs2_ax0)\n",
    "print('ผลบวกสะสมของสมาชิก ในแนวนอน : \\n',cs2_ax1)"
   ]
  },
  {
   "cell_type": "code",
   "execution_count": 38,
   "metadata": {},
   "outputs": [
    {
     "name": "stdout",
     "output_type": "stream",
     "text": [
      "a :  [6 3 8 2 8] \n",
      "\n",
      "ค่าเฉลี่ย a = 5.4 \n",
      "\n",
      "[[6 2 1]\n",
      " [9 5 9]\n",
      " [9 8 4]] \n",
      "\n",
      "ค่าเฉลี่ย (sum/9) =  5.888888888888889 \n",
      "\n",
      "หาค่าเฉลี่ยในแนวตั้ง :  [8.         5.         4.66666667]\n",
      "หาค่าเฉลี่ยในแนวนอน :  [3.         7.66666667 7.        ]\n"
     ]
    }
   ],
   "source": [
    "import numpy as np\n",
    "a = np.random.randint(1,10,5)\n",
    "cs = np.mean(a)\n",
    "\n",
    "a2 = np.random.randint(1,10,(3,3))\n",
    "cs2 = np.mean(a2)\n",
    "\n",
    "cs2_ax0 = np.mean(a2,axis = 0)\n",
    "cs2_ax1 = np.mean(a2,axis = 1)\n",
    "\n",
    "print('a : ',a,'\\n')\n",
    "print('ค่าเฉลี่ย a =',cs,'\\n')\n",
    "print(a2,'\\n')\n",
    "print('ค่าเฉลี่ย (sum/9) = ',cs2,'\\n')\n",
    "print('หาค่าเฉลี่ยในแนวตั้ง : ',cs2_ax0)\n",
    "print('หาค่าเฉลี่ยในแนวนอน : ',cs2_ax1)"
   ]
  },
  {
   "cell_type": "code",
   "execution_count": null,
   "metadata": {},
   "outputs": [],
   "source": []
  }
 ],
 "metadata": {
  "kernelspec": {
   "display_name": "Python 3",
   "language": "python",
   "name": "python3"
  },
  "language_info": {
   "codemirror_mode": {
    "name": "ipython",
    "version": 3
   },
   "file_extension": ".py",
   "mimetype": "text/x-python",
   "name": "python",
   "nbconvert_exporter": "python",
   "pygments_lexer": "ipython3",
   "version": "3.8.3"
  }
 },
 "nbformat": 4,
 "nbformat_minor": 4
}
