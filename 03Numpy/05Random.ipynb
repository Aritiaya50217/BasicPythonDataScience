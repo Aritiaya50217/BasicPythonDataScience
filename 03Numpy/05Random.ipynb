{
 "cells": [
  {
   "cell_type": "code",
   "execution_count": 1,
   "metadata": {},
   "outputs": [
    {
     "name": "stdout",
     "output_type": "stream",
     "text": [
      "[53 97 24 18 87 13 69 47 50 62]\n",
      "\n",
      "[ 1  2 10  2  5  4  2  4  9  5]\n",
      "\n",
      "[ 3 -7  1 -9  1  0  0  0 -9  0]\n"
     ]
    }
   ],
   "source": [
    "# การสร้างอาร์เรย์จากเลขสุ่ม\n",
    "# random.randint(low,high,size) ใช้เมื่อเราต้องการเลขจำนวนเต็มที่อยู่ระหว่างค่า low และ high-1 โดย size คือจำนวนที่ต้องการ\n",
    "import numpy  as np\n",
    "a = np.random.randint(10,100,10)\n",
    "b = np.random.randint(1,11,10)\n",
    "c = np.random.randint(-10,5,10)\n",
    "\n",
    "print(a,b,c,sep='\\n\\n')"
   ]
  },
  {
   "cell_type": "code",
   "execution_count": 2,
   "metadata": {},
   "outputs": [
    {
     "name": "stdout",
     "output_type": "stream",
     "text": [
      "[29.28415956 64.12450498 31.04542261 24.61919764 94.7299745  19.40806198\n",
      " 48.88868749 10.28092542 10.51779921 70.19081752]\n",
      "\n",
      "[ 4.40218568  1.75088044  9.40220879  4.45317779  1.7669317   6.75507855\n",
      "  2.29873026 10.53550089  4.69790046  7.70767909]\n",
      "\n",
      "[-0.79854037  0.84686846 -7.12895491 -3.9022144  -6.48312811 -7.01820942\n",
      "  3.62136949  0.06458562 -3.15135119  1.61193419]\n"
     ]
    }
   ],
   "source": [
    "# random.uniform(low,high,size) ใช้เมื่อเราต้องการเลขทศนิยมอยู่ระหว่างค่า low และ high-1 โดย size คือจำนวนที่ต้องการ\n",
    "import numpy as np\n",
    "a = np.random.uniform(10,100,10)\n",
    "b = np.random.uniform(1,11,10)\n",
    "c = np.random.uniform(-10,5,10)\n",
    "print(a,b,c,sep='\\n\\n')"
   ]
  },
  {
   "cell_type": "code",
   "execution_count": 5,
   "metadata": {},
   "outputs": [
    {
     "name": "stdout",
     "output_type": "stream",
     "text": [
      "สุ่มตัวเลขมา 5 จำนวน :  [0.68667115 0.20930281 0.21657746 0.56228713 0.17664648]\n"
     ]
    }
   ],
   "source": [
    "# random.rand(size)  ใช้เมื่อเราต้องการอาร์เรย์เป็นเลขทศนิยมระหว่าง 0.0 - 1.0 ที่มีขนาดตามสมาชิกที่ระบุ\n",
    "import numpy as np\n",
    "x = np.random.rand(5)\n",
    "print('สุ่มตัวเลขมา 5 จำนวน : ',x)"
   ]
  },
  {
   "cell_type": "code",
   "execution_count": 10,
   "metadata": {},
   "outputs": [
    {
     "name": "stdout",
     "output_type": "stream",
     "text": [
      "[9 0 9 0 3]\n",
      "\n",
      "[-70   4   0   5]\n"
     ]
    }
   ],
   "source": [
    "# random.choice(sequence , size) ใช้เมื่อต้องสุ่มตัวเลือกที่มีอยู่ โดยกำหนดรายการตัวเลือกในแบบลิสต์หรือทูเพิล\n",
    "import numpy as np\n",
    "x = np.random.choice([7,8,9,0,9,7,1,3,6],5)\n",
    "y = np.random.choice((-70,-5,0,5,8,4,5,6),4)\n",
    "\n",
    "print(x,y,sep='\\n\\n')"
   ]
  },
  {
   "cell_type": "code",
   "execution_count": null,
   "metadata": {},
   "outputs": [],
   "source": []
  },
  {
   "cell_type": "code",
   "execution_count": null,
   "metadata": {},
   "outputs": [],
   "source": []
  }
 ],
 "metadata": {
  "kernelspec": {
   "display_name": "Python 3",
   "language": "python",
   "name": "python3"
  },
  "language_info": {
   "codemirror_mode": {
    "name": "ipython",
    "version": 3
   },
   "file_extension": ".py",
   "mimetype": "text/x-python",
   "name": "python",
   "nbconvert_exporter": "python",
   "pygments_lexer": "ipython3",
   "version": "3.8.3"
  }
 },
 "nbformat": 4,
 "nbformat_minor": 4
}
