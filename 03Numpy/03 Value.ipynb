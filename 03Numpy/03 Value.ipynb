{
 "cells": [
  {
   "cell_type": "code",
   "execution_count": 2,
   "metadata": {},
   "outputs": [
    {
     "name": "stdout",
     "output_type": "stream",
     "text": [
      "[0. 0. 0. 0. 0.]\n",
      "\n",
      "[0 0 0 0 0]\n",
      "\n",
      "[1. 1. 1. 1. 1.]\n",
      "\n",
      "[1 1 1 1 1]\n",
      "\n",
      "[10 10 10 10 10]\n",
      "\n",
      "[15 15 15 15 15]\n",
      "\n",
      "[5 5 5 5 5]\n"
     ]
    }
   ],
   "source": [
    "# การสร้างอาร์เรย์แบบใช้ข้อมูลค่าเดียวกัน\n",
    "import numpy as np\n",
    "# zeros() สร้างอาร์เรย์โดยให้สมาชิกมีค่าเริ่มแรกเป็น 0 ทั้งหมด\n",
    "# zeros(size,dtype) ค่าปกติจะเป็น 0. \n",
    "z = np.zeros(5)\n",
    "zi = np.zeros(5,dtype=int)\n",
    "\n",
    "# ones() สร้างอาร์เรย์โดยให้สมาชิกทุกตัวมีค่าเริ่มแรกเป็น 1 ทั้งหมด\n",
    "o = np.ones(5)\n",
    "oi = np.ones(5,dtype=int)\n",
    "\n",
    "# full() สร้างอาร์เรย์โดยกำหนดจำนวนสมาชิกและค่าเริ่มต้นตามที่ระบุ\n",
    "\n",
    "# full(size,dtype)\n",
    "\n",
    "f1 = np.full(5,10)\n",
    "f2 = np.full(5,15)\n",
    "f3 = np.full(5,5.55, dtype=int)\n",
    "\n",
    "print(z,zi,o,oi,f1,f2,f3, sep='\\n\\n')"
   ]
  },
  {
   "cell_type": "code",
   "execution_count": null,
   "metadata": {},
   "outputs": [],
   "source": []
  }
 ],
 "metadata": {
  "kernelspec": {
   "display_name": "Python 3",
   "language": "python",
   "name": "python3"
  },
  "language_info": {
   "codemirror_mode": {
    "name": "ipython",
    "version": 3
   },
   "file_extension": ".py",
   "mimetype": "text/x-python",
   "name": "python",
   "nbconvert_exporter": "python",
   "pygments_lexer": "ipython3",
   "version": "3.8.3"
  }
 },
 "nbformat": 4,
 "nbformat_minor": 4
}
