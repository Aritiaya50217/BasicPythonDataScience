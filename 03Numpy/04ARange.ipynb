{
 "cells": [
  {
   "cell_type": "code",
   "execution_count": 11,
   "metadata": {},
   "outputs": [
    {
     "name": "stdout",
     "output_type": "stream",
     "text": [
      "[1 2 3 4 5 6 7 8 9]\n",
      "\n",
      "[1 3 5 7 9]\n",
      "\n",
      "[]\n"
     ]
    }
   ],
   "source": [
    "# การสร้างอาร์เรย์แบบกำหนดช่วงข้อมูล\n",
    "# arange(start,stop,step)  เหมือนกับ range ในไพธอนปกติ\n",
    "import numpy as np\n",
    "a = np.arange(1,10)\n",
    "b = np.arange(1,10,2)\n",
    "# ได้ [] เพราะ start > stop\n",
    "c = np.arange(10,5,8)\n",
    "\n",
    "print(a,b,c,sep='\\n\\n')"
   ]
  },
  {
   "cell_type": "code",
   "execution_count": 17,
   "metadata": {},
   "outputs": [
    {
     "name": "stdout",
     "output_type": "stream",
     "text": [
      "[2, 3, 4]\n",
      "ค่า 3  ได้จาก range :  range(0, 4)\n"
     ]
    }
   ],
   "source": [
    "# การใช้ range ปกติในไพธอน\n",
    "d = [1,2,3,4,5]\n",
    "print(d[1:4])\n",
    "print(\"ค่า 3  ได้จาก range : \",range(d[3]))\n"
   ]
  },
  {
   "cell_type": "code",
   "execution_count": 26,
   "metadata": {},
   "outputs": [
    {
     "name": "stdout",
     "output_type": "stream",
     "text": [
      "ตั้งแต่ 1 ถึง 10 เลือกมา 4  จำนวน : [ 1.  4.  7. 10.]\n",
      "ตั้งแต่ 1 ถึง 10 เลือกมา 6 จำนวน : [ 1.   2.8  4.6  6.4  8.2 10. ]\n",
      "ตั้งแต่ 1 ถึง 10 เลือกมา 4  จำนวน เป็นจำนวนเต็ม : [ 1  4  7 10]\n"
     ]
    }
   ],
   "source": [
    "# linspace(begin,end,size) ต้องการชุดข้อมูลระหว่าง x - y  ทั้งหมด n จำนวน \n",
    "# ช่วงข้อมุลค่าแรกและค่าสุดท้าย จะถูกแบ่งให้มีระยะห่างเท่าๆกัน\n",
    "a1 = np.linspace(1,10,4)\n",
    "a2 = np.linspace(1,10,6)\n",
    "a3 = np.linspace(1,10,4, dtype=int)\n",
    "print(\"ตั้งแต่ 1 ถึง 10 เลือกมา 4  จำนวน :\" ,a1)\n",
    "print('ตั้งแต่ 1 ถึง 10 เลือกมา 6 จำนวน :',a2)\n",
    "print(\"ตั้งแต่ 1 ถึง 10 เลือกมา 4  จำนวน เป็นจำนวนเต็ม :\" ,a3)"
   ]
  },
  {
   "cell_type": "code",
   "execution_count": null,
   "metadata": {},
   "outputs": [],
   "source": []
  }
 ],
 "metadata": {
  "kernelspec": {
   "display_name": "Python 3",
   "language": "python",
   "name": "python3"
  },
  "language_info": {
   "codemirror_mode": {
    "name": "ipython",
    "version": 3
   },
   "file_extension": ".py",
   "mimetype": "text/x-python",
   "name": "python",
   "nbconvert_exporter": "python",
   "pygments_lexer": "ipython3",
   "version": "3.8.3"
  }
 },
 "nbformat": 4,
 "nbformat_minor": 4
}
