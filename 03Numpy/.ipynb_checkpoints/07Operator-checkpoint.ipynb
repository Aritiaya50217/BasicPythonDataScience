{
 "cells": [
  {
   "cell_type": "code",
   "execution_count": 5,
   "metadata": {},
   "outputs": [
    {
     "name": "stdout",
     "output_type": "stream",
     "text": [
      "[1 2 3 4 5]\n",
      "Addition 10 :  [11 12 13 14 15]\n"
     ]
    }
   ],
   "source": [
    "import numpy as np\n",
    "arr = np.array([1,2,3,4,5])\n",
    "print(arr)\n",
    "print(\"Addition 10 : \",arr+10)"
   ]
  },
  {
   "cell_type": "code",
   "execution_count": 14,
   "metadata": {},
   "outputs": [
    {
     "name": "stdout",
     "output_type": "stream",
     "text": [
      "a addition b :  [3 3 3 3 3]\n",
      "----------------------------------------------------------------------\n",
      "สมาชิกมีค่าตั้งแต่ 50 ขึ้นไป : [ 68  70 100  57  79  69  90]\n",
      "สมาชิกทีทหาร 2 ลงตัว : [ 68  70 100  90  18]\n",
      "สมาชิกที่อยู่ระหว่าง 20 - 60 :  [57]\n"
     ]
    }
   ],
   "source": [
    "# การเอาสมาชิกในอาร์เรย์มาบวกกัน โดยอาร์เรย์ต้องมาสมาชิกเท่ากัน\n",
    "import numpy as np\n",
    "a = np.array([1,1,1,1,1])\n",
    "b = np.array([2,2,2,2,2])\n",
    "print(\"a addition b : \",a+b)\n",
    "print('----------------------------------------------------------------------')\n",
    "arr = np.random.randint(10,101,10)\n",
    "c = arr[arr >= 50]\n",
    "d = arr[arr % 2 == 0]\n",
    "e = arr[(arr >= 20) & (arr <= 60)]\n",
    "print('สมาชิกมีค่าตั้งแต่ 50 ขึ้นไป :',c)\n",
    "print('สมาชิกทีทหาร 2 ลงตัว :',d)\n",
    "print('สมาชิกที่อยู่ระหว่าง 20 - 60 : ',e)"
   ]
  },
  {
   "cell_type": "code",
   "execution_count": null,
   "metadata": {},
   "outputs": [],
   "source": []
  }
 ],
 "metadata": {
  "kernelspec": {
   "display_name": "Python 3",
   "language": "python",
   "name": "python3"
  },
  "language_info": {
   "codemirror_mode": {
    "name": "ipython",
    "version": 3
   },
   "file_extension": ".py",
   "mimetype": "text/x-python",
   "name": "python",
   "nbconvert_exporter": "python",
   "pygments_lexer": "ipython3",
   "version": "3.8.3"
  }
 },
 "nbformat": 4,
 "nbformat_minor": 4
}
