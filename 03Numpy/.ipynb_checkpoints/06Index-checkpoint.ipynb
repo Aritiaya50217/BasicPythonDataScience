{
 "cells": [
  {
   "cell_type": "code",
   "execution_count": 2,
   "metadata": {},
   "outputs": [
    {
     "name": "stdout",
     "output_type": "stream",
     "text": [
      "11\n",
      "1020\n"
     ]
    }
   ],
   "source": [
    "# Positive Index กรณีที่ระบุลำดับเป็นบวก\n",
    "import numpy as np\n",
    "a = np.array([7,11,108,1009,101,55])\n",
    "print(a[1])\n",
    "print(a[1] + a[3])"
   ]
  },
  {
   "cell_type": "code",
   "execution_count": 11,
   "metadata": {},
   "outputs": [
    {
     "name": "stdout",
     "output_type": "stream",
     "text": [
      "ค่าลำดับสุดท้าย : 55\n",
      "ค่าลำดับแรก : 7\n",
      "7\n",
      "11\n",
      "108\n",
      "1009\n",
      "101\n",
      "55\n",
      "**********************************\n",
      "0: 7\n",
      "1: 11\n",
      "2: 108\n",
      "3: 1009\n",
      "4: 101\n",
      "5: 55\n"
     ]
    }
   ],
   "source": [
    "# Negative Index กรณีระบุลำดับเป็นลบ\n",
    "import numpy as np\n",
    "a = np.array([7,11,108,1009,101,55])\n",
    "print('ค่าลำดับสุดท้าย :',a[-1])\n",
    "print('ค่าลำดับแรก :',a[-6])\n",
    "\n",
    "for value in a :\n",
    "    print(value)\n",
    "print('**********************************')\n",
    "\n",
    "# enumerate ()  เข้าถึงลำดับและค่าของสมาชิก\n",
    "for (index,value) in enumerate(a):\n",
    "    print(f'{index}: {value}')"
   ]
  },
  {
   "cell_type": "code",
   "execution_count": 20,
   "metadata": {},
   "outputs": [
    {
     "name": "stdout",
     "output_type": "stream",
     "text": [
      "a[5 : ] =  [55  2  3  4  5 90 98 76 44 33 22 11] \n",
      "a[2 : 9] =  [ 108 1009  101   55    2    3    4] \n",
      "a[10 : 16] =  [90 98 76 44 33 22] \n",
      "a[-1] =  11\n"
     ]
    }
   ],
   "source": [
    "# Index Slicing รูปแบบ array[start : stop : step]\n",
    "import numpy as np\n",
    "a = np.array([7,11,108,1009,101,55,2,3,4,5,90,98,76,44,33,22,11])\n",
    "print(\"a[5 : ] = \",a[5:],'\\na[2 : 9] = ',a[2:9],'\\na[10 : 16] = ', a[10:16],'\\na[-1] = ',a[-1])"
   ]
  },
  {
   "cell_type": "code",
   "execution_count": 24,
   "metadata": {},
   "outputs": [
    {
     "name": "stdout",
     "output_type": "stream",
     "text": [
      "[  7 108 101   4]\n",
      "\n",
      "[11 76 90  3 33]\n",
      "\n",
      "[   3 1009    5   11]\n"
     ]
    }
   ],
   "source": [
    "# Fancy Index   เป็นการอ้างถึงสมาชิกหลายอันพร้อมกัน แต่ม่ได้เป็นช่วงแบบต่อเนื่อง\n",
    "import numpy as np\n",
    "arr = np.array([7,11,108,1009,101,55,2,3,4,5,90,98,76,44,33,22,11])\n",
    "# กำหนดลำดับที่ต้องการ\n",
    "idx = [0,2,4,8]\n",
    "a = arr[idx]\n",
    "\n",
    "idx2 = np.array([-1,-5,-7,-10,-3])\n",
    "b = arr[idx2]\n",
    "\n",
    "# แบบไม่เรียงลำดับ \n",
    "c = arr[[7,3,9,1]]\n",
    "\n",
    "print(a,b,c,sep='\\n\\n')"
   ]
  },
  {
   "cell_type": "code",
   "execution_count": null,
   "metadata": {},
   "outputs": [],
   "source": []
  }
 ],
 "metadata": {
  "kernelspec": {
   "display_name": "Python 3",
   "language": "python",
   "name": "python3"
  },
  "language_info": {
   "codemirror_mode": {
    "name": "ipython",
    "version": 3
   },
   "file_extension": ".py",
   "mimetype": "text/x-python",
   "name": "python",
   "nbconvert_exporter": "python",
   "pygments_lexer": "ipython3",
   "version": "3.8.3"
  }
 },
 "nbformat": 4,
 "nbformat_minor": 4
}
