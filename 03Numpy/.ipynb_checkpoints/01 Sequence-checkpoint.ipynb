{
 "cells": [
  {
   "cell_type": "code",
   "execution_count": 15,
   "metadata": {},
   "outputs": [
    {
     "name": "stdout",
     "output_type": "stream",
     "text": [
      "สร้างอาร์เรย์จาก ลิสต์ :  [1 3 5]\n",
      "สร้างอาร์เรย์จาก ลิสต์ :  [2 4 6 8]\n",
      "สร้างอาร์เรย์จาก function range() :  [ 1  2  3  4  5  6  7  8  9 10]\n",
      "สร้างอาร์เรย์จาก tuple :  [   7   11  999 1234]\n",
      "สร้างอาร์เรย์จาก ลิสต์ โดยการใช้ for loop:  [ 3  6  9 12 15]\n"
     ]
    }
   ],
   "source": [
    "import numpy as np\n",
    "\n",
    "list = [1,3,5]\n",
    "a1 = np.array(list)\n",
    "print('สร้างอาร์เรย์จาก ลิสต์ : ',a1)\n",
    "\n",
    "a2 = np.array([2,4,6,8])\n",
    "print('สร้างอาร์เรย์จาก ลิสต์ : ',a2)\n",
    "\n",
    "a3 = np.array(range(1,11))\n",
    "print('สร้างอาร์เรย์จาก function range() : ',a3)\n",
    "\n",
    "a4 = np.array((7,11,999,1234))\n",
    "print('สร้างอาร์เรย์จาก tuple : ',a4)\n",
    "\n",
    "a5 = np.array([3 * x for x in range(1,6)])\n",
    "print('สร้างอาร์เรย์จาก ลิสต์ โดยการใช้ for loop: ',a5)\n",
    "\n"
   ]
  },
  {
   "cell_type": "code",
   "execution_count": null,
   "metadata": {},
   "outputs": [],
   "source": []
  }
 ],
 "metadata": {
  "kernelspec": {
   "display_name": "Python 3",
   "language": "python",
   "name": "python3"
  },
  "language_info": {
   "codemirror_mode": {
    "name": "ipython",
    "version": 3
   },
   "file_extension": ".py",
   "mimetype": "text/x-python",
   "name": "python",
   "nbconvert_exporter": "python",
   "pygments_lexer": "ipython3",
   "version": "3.8.3"
  }
 },
 "nbformat": 4,
 "nbformat_minor": 4
}
