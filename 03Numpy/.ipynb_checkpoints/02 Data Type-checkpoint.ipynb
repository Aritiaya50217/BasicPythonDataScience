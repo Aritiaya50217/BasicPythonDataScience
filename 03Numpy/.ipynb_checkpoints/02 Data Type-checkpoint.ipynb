{
 "cells": [
  {
   "cell_type": "code",
   "execution_count": 5,
   "metadata": {},
   "outputs": [
    {
     "name": "stdout",
     "output_type": "stream",
     "text": [
      "[1 5 6 7]\n",
      "\n",
      "['1' 'True' 'Three' '5.0']\n"
     ]
    }
   ],
   "source": [
    "# การระบุชนิดข้อมูล หากสร้างอาร์เรย์โดยไม่ระบุชนิดข้อมูล numpy จะพยายามแปลงค่าให้สมาชิกุกตัวเป็นข้อมูลชนิดใดชนิดหนึ่งที่สามารถเป็นไปได้เหมือนๆกัน\n",
    "import numpy as np\n",
    "\n",
    "a = np.array([1,5,6,7])\n",
    "b = np.array([1,True,'Three',5.0])\n",
    "# sep การกำหนด การขึ้นบรรทัดใหม่\n",
    "print(a,b,sep = '\\n\\n') \n"
   ]
  },
  {
   "cell_type": "code",
   "execution_count": 21,
   "metadata": {},
   "outputs": [
    {
     "name": "stdout",
     "output_type": "stream",
     "text": [
      "5\n",
      "เปลี่ยนเป็นทศนิยม :  5.0\n",
      "[1. 2. 3. 4. 5.]\n",
      "\n",
      "[1 5 7]\n",
      "\n",
      "['True' 'False']\n"
     ]
    }
   ],
   "source": [
    "# data type (dtype) การแปลงชนิดข้อมูล\n",
    "# กรณีแปลงค่าใน python ปกติ\n",
    "a = 5\n",
    "print(a)\n",
    "print('เปลี่ยนเป็นทศนิยม : ',float(a))\n",
    "\n",
    "# แปลงค่าใน numpy\n",
    "import numpy as np\n",
    "b = np.array([1,2,3,4,5],dtype = float)\n",
    "c = np.array([1.23, 5.666,7.888],dtype = int)\n",
    "d = np.array([True,False], dtype = str)\n",
    "\n",
    "print(b,c,d,sep='\\n\\n')"
   ]
  },
  {
   "cell_type": "code",
   "execution_count": null,
   "metadata": {},
   "outputs": [],
   "source": []
  }
 ],
 "metadata": {
  "kernelspec": {
   "display_name": "Python 3",
   "language": "python",
   "name": "python3"
  },
  "language_info": {
   "codemirror_mode": {
    "name": "ipython",
    "version": 3
   },
   "file_extension": ".py",
   "mimetype": "text/x-python",
   "name": "python",
   "nbconvert_exporter": "python",
   "pygments_lexer": "ipython3",
   "version": "3.8.3"
  }
 },
 "nbformat": 4,
 "nbformat_minor": 4
}
