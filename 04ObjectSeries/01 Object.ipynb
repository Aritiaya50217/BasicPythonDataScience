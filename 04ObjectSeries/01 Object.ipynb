{
 "cells": [
  {
   "cell_type": "code",
   "execution_count": null,
   "metadata": {},
   "outputs": [],
   "source": [
    "# pd.Series(data, index, name, dtype)\n",
    "\n",
    "# data = คือข้อมูลที่จะจัดเก็บในคอลัมน์ Data \n",
    "# index = ข้อมูลสำหรับคอลัมน์ Index\n",
    "# name = ชื่อของข้อมูล\n",
    "# dtype = ชิดข้อมูลที่เราจัดเก็บในคอลัมน์ Data \n",
    "\n",
    "import pandas as pd\n",
    "# list\n",
    "data1 = [70,87,99,90,1]\n",
    "sr1 = pd.Series(data=data1)\n"
   ]
  }
 ],
 "metadata": {
  "kernelspec": {
   "display_name": "Python 3",
   "language": "python",
   "name": "python3"
  },
  "language_info": {
   "codemirror_mode": {
    "name": "ipython",
    "version": 3
   },
   "file_extension": ".py",
   "mimetype": "text/x-python",
   "name": "python",
   "nbconvert_exporter": "python",
   "pygments_lexer": "ipython3",
   "version": "3.8.3"
  }
 },
 "nbformat": 4,
 "nbformat_minor": 4
}
