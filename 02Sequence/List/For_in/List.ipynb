{
 "cells": [
  {
   "cell_type": "code",
   "execution_count": 3,
   "metadata": {},
   "outputs": [
    {
     "name": "stdout",
     "output_type": "stream",
     "text": [
      " [] \n",
      " [1, 2, 3, 4, 5] \n",
      " ['one', 'two', 'three'] \n",
      " [3, 4, 5]\n"
     ]
    }
   ],
   "source": [
    "# list การจัดเก็บข้อมูล สามารถเข้าถึงข้อมูลด้วยเลขลำดับ\n",
    "a = list()\n",
    "b = list([1,2,3,4,5])\n",
    "c= list(['one','two','three'])\n",
    "d = list(range(3,6))\n",
    "print('',a,\"\\n\",b,\"\\n\",c,\"\\n\",d)"
   ]
  },
  {
   "cell_type": "code",
   "execution_count": 8,
   "metadata": {},
   "outputs": [
    {
     "name": "stdout",
     "output_type": "stream",
     "text": [
      " Index 0 : 2 \n",
      " Index 3 : 8\n"
     ]
    }
   ],
   "source": [
    "# การอ้างอิงถึงสมาชิก\n",
    "nums = [2,4,6,8]\n",
    "print(\"\",\"Index 0 :\",nums[0],\"\\n\",\"Index 3 :\",nums[3])"
   ]
  },
  {
   "cell_type": "code",
   "execution_count": 10,
   "metadata": {},
   "outputs": [
    {
     "name": "stdout",
     "output_type": "stream",
     "text": [
      "Before : ['red', 'green', 'blue']\n",
      "After : ['black', 'green', 'blue']\n"
     ]
    }
   ],
   "source": [
    "# การแก้ไขข้อมูลสมาชิก\n",
    "colors = [\"red\",\"green\",\"blue\"]\n",
    "print(\"Before :\",colors)\n",
    "colors[0] = \"black\"\n",
    "print(\"After :\",colors)"
   ]
  },
  {
   "cell_type": "code",
   "execution_count": 12,
   "metadata": {},
   "outputs": [
    {
     "name": "stdout",
     "output_type": "stream",
     "text": [
      "1\n",
      "3\n",
      "5\n",
      "7\n",
      "9\n"
     ]
    }
   ],
   "source": [
    "# การใช้ loop เพื่อเข้าถึงสาชิกทุกตัว\n",
    "odd = [1,3,5,7,9]\n",
    "for n in odd :\n",
    "    print(n)"
   ]
  },
  {
   "cell_type": "code",
   "execution_count": 16,
   "metadata": {},
   "outputs": [
    {
     "name": "stdout",
     "output_type": "stream",
     "text": [
      "10\n",
      "20\n",
      "30\n",
      "40\n",
      "50\n"
     ]
    }
   ],
   "source": [
    "# เพิ่มค่าทุกตัว 10 เท่า\n",
    "a = [1,2,3,4,5]\n",
    "for i in a :\n",
    "    print(i*10)"
   ]
  },
  {
   "cell_type": "code",
   "execution_count": 17,
   "metadata": {},
   "outputs": [
    {
     "name": "stdout",
     "output_type": "stream",
     "text": [
      "[8, 6]\n"
     ]
    }
   ],
   "source": [
    "# การระบุเงื่อนไข เพื่อเอาสมาชิกบางตัว\n",
    "a = [-1,8,6,9]\n",
    "b = [x for x in a if  x % 2 == 0]\n",
    "print(b)"
   ]
  },
  {
   "cell_type": "code",
   "execution_count": null,
   "metadata": {},
   "outputs": [],
   "source": []
  }
 ],
 "metadata": {
  "kernelspec": {
   "display_name": "Python 3",
   "language": "python",
   "name": "python3"
  },
  "language_info": {
   "codemirror_mode": {
    "name": "ipython",
    "version": 3
   },
   "file_extension": ".py",
   "mimetype": "text/x-python",
   "name": "python",
   "nbconvert_exporter": "python",
   "pygments_lexer": "ipython3",
   "version": "3.8.3"
  }
 },
 "nbformat": 4,
 "nbformat_minor": 4
}
