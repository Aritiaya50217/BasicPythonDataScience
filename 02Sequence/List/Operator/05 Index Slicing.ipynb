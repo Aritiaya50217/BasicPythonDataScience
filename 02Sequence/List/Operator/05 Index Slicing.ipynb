{
 "cells": [
  {
   "cell_type": "code",
   "execution_count": 1,
   "metadata": {},
   "outputs": [
    {
     "name": "stdout",
     "output_type": "stream",
     "text": [
      "Index 1 - Index 3 :  [1, 2, 3]\n"
     ]
    }
   ],
   "source": [
    "a =  [0,1,2,3,4,5]\n",
    "print(\"Index 1 - Index 3 : \" , a[1:4])"
   ]
  },
  {
   "cell_type": "code",
   "execution_count": 4,
   "metadata": {},
   "outputs": [
    {
     "name": "stdout",
     "output_type": "stream",
     "text": [
      "Index 0 : Python\n",
      "Index 1 : JavaScript\n",
      "Index 2 : Golang\n"
     ]
    }
   ],
   "source": [
    "b = ['Python','JavaScript','Golang']\n",
    "print(\"Index 0 :\" , b[0])\n",
    "print(\"Index 1 :\" , b[1])\n",
    "print(\"Index 2 :\" , b[2])"
   ]
  },
  {
   "cell_type": "code",
   "execution_count": 5,
   "metadata": {},
   "outputs": [
    {
     "name": "stdout",
     "output_type": "stream",
     "text": [
      "Index 0 - last Index :  ['a', 'b', 'c', 'd', 'e', 'f', 'g']\n"
     ]
    }
   ],
   "source": [
    "c = ['a','b','c','d','e','f','g']\n",
    "print(\"Index 0 - last Index : \" , c[0:])"
   ]
  },
  {
   "cell_type": "code",
   "execution_count": 6,
   "metadata": {},
   "outputs": [
    {
     "name": "stdout",
     "output_type": "stream",
     "text": [
      "Index 3 - Index 4 :  ['d', 'e']\n"
     ]
    }
   ],
   "source": [
    "c = ['a','b','c','d','e','f','g']\n",
    "print(\"Index 3 - Index 4 : \" ,c[3:5])"
   ]
  },
  {
   "cell_type": "code",
   "execution_count": null,
   "metadata": {},
   "outputs": [],
   "source": []
  }
 ],
 "metadata": {
  "kernelspec": {
   "display_name": "Python 3",
   "language": "python",
   "name": "python3"
  },
  "language_info": {
   "codemirror_mode": {
    "name": "ipython",
    "version": 3
   },
   "file_extension": ".py",
   "mimetype": "text/x-python",
   "name": "python",
   "nbconvert_exporter": "python",
   "pygments_lexer": "ipython3",
   "version": "3.8.3"
  }
 },
 "nbformat": 4,
 "nbformat_minor": 4
}
