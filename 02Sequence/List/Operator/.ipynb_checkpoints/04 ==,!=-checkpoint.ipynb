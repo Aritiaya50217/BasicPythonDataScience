{
 "cells": [
  {
   "cell_type": "code",
   "execution_count": 18,
   "metadata": {},
   "outputs": [
    {
     "name": "stdout",
     "output_type": "stream",
     "text": [
      "Lenght a =  5 | Lenght b =  6 | Lenght c =  4 | Lenght d =  4\n",
      "a == b : False\n",
      "a == c :  False\n",
      "a != b :  True\n",
      "c == d :  True\n"
     ]
    }
   ],
   "source": [
    "a = [1,2,3,4,5]\n",
    "b = [1,2,3,4,5,6]\n",
    "c = [1,2,3,4]\n",
    "d = [1.0,2.0,3.0,4.0]\n",
    "print(\"Lenght a = \",len(a),\"|\",\"Lenght b = \",len(b),\"|\",\"Lenght c = \",len(c),\"|\",\"Lenght d = \",len(d))\n",
    "print(\"a == b :\" ,a == b)\n",
    "print(\"a == c : \" , a ==c)\n",
    "print(\"a != b : \",a != b)\n",
    "print(\"c == d : \", c == d)"
   ]
  },
  {
   "cell_type": "code",
   "execution_count": 13,
   "metadata": {},
   "outputs": [
    {
     "name": "stdout",
     "output_type": "stream",
     "text": [
      "Length :  2\n",
      "Length :  3\n",
      "ความยาวของ str1 เท่ากับ str2  :  False\n"
     ]
    }
   ],
   "source": [
    "str1 = ['a','b']\n",
    "str2 = ['a','b','c']\n",
    "print(\"Length : \",len(str1))\n",
    "print(\"Length : \", len(str2))\n",
    "print(\"ความยาวของ str1 เท่ากับ str2  : \",str1 == str2)"
   ]
  },
  {
   "cell_type": "code",
   "execution_count": null,
   "metadata": {},
   "outputs": [],
   "source": []
  }
 ],
 "metadata": {
  "kernelspec": {
   "display_name": "Python 3",
   "language": "python",
   "name": "python3"
  },
  "language_info": {
   "codemirror_mode": {
    "name": "ipython",
    "version": 3
   },
   "file_extension": ".py",
   "mimetype": "text/x-python",
   "name": "python",
   "nbconvert_exporter": "python",
   "pygments_lexer": "ipython3",
   "version": "3.8.3"
  }
 },
 "nbformat": 4,
 "nbformat_minor": 4
}
