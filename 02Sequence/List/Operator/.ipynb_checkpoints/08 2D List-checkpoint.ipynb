{
 "cells": [
  {
   "cell_type": "code",
   "execution_count": 8,
   "metadata": {},
   "outputs": [
    {
     "name": "stdout",
     "output_type": "stream",
     "text": [
      "[[1, 2, 3, 4, 5], [6, 7, 8, 9], [0, 5, 5, 5]] \n",
      "\n",
      "Index 0 :  [1, 2, 3, 4, 5]   Length :  5\n",
      "Index 1 :  [6, 7, 8, 9]    Length :  4\n",
      "Index 2 :  [0, 5, 5, 5]    Length :  4\n"
     ]
    }
   ],
   "source": [
    "# list แบบ 2 มิติ (Two-Dimensional List)\n",
    "number = [[1,2,3,4,5],[6,7,8,9],[0,5,5,5]]\n",
    "print(number,\"\\n\")\n",
    "print(\"Index 0 : \",number[0],\"  Length : \",len(number[0]))\n",
    "print(\"Index 1 : \",number[1],\"   Length : \",len(number[1]))\n",
    "print(\"Index 2 : \",number[2],\"   Length : \",len(number[2]))"
   ]
  },
  {
   "cell_type": "code",
   "execution_count": 13,
   "metadata": {},
   "outputs": [
    {
     "name": "stdout",
     "output_type": "stream",
     "text": [
      "สมาชิกลำดับที่ 1 แสดงสมาชิกตัวที่ 0 :  black\n"
     ]
    }
   ],
   "source": [
    "color = [['red','green','blue'],['black','orange','gray'],['yellow']]\n",
    "print(\"สมาชิกลำดับที่ 1 แสดงสมาชิกตัวที่ 0 : \",color[1][0])"
   ]
  },
  {
   "cell_type": "code",
   "execution_count": 22,
   "metadata": {},
   "outputs": [
    {
     "name": "stdout",
     "output_type": "stream",
     "text": [
      "[['red', 'green', 'blue'], ['black', 'orange', 'gray'], ['yellow']]\n",
      "red green blue black orange gray yellow "
     ]
    }
   ],
   "source": [
    "#หากจะเข้ถึงสมาชิกย่อยๆ ของ list 2 มิติ ด้วย for-in ต้องใช้ loop ซ้อนกัน\n",
    "# loop ชั้นนอก ใช้อ้างอิงถึงลำดับของลิสต์ย่อย ๆ\n",
    "# loop ชั้นใน อ้างอิงลำดับของสมาชิกภายใน\n",
    "color = [['red','green','blue'],['black','orange','gray'],['yellow']]\n",
    "print(color)\n",
    "# ชั้นนอก\n",
    "for cols in color :\n",
    "#     ชั้นใน\n",
    "    for c in cols :\n",
    "#         end = ' ' เว้นช่องว่าง\n",
    "        print(c,end=' ')\n"
   ]
  },
  {
   "cell_type": "code",
   "execution_count": 57,
   "metadata": {},
   "outputs": [
    {
     "name": "stdout",
     "output_type": "stream",
     "text": [
      "['yellow']\n",
      "['yellow', 'purple']\n",
      "['yellow', 'purple', 'white', 'lightgray']\n",
      "Puple in color[2] :  Yes\n",
      "cols :  ['red', 'green', 'blue']\n",
      "color[1][0] = black\n",
      "yellow อยู่ในตำแหน่ง :  color[2][0] = yellow\n"
     ]
    }
   ],
   "source": [
    "color = [['red','green','blue'],['black','orange','gray'],['yellow']]\n",
    "print(color[2])\n",
    "color[2].append('purple')\n",
    "print(color[2])\n",
    "color[2] += ['white','lightgray']\n",
    "print(color[2])\n",
    "\n",
    "# ชั้นเดียว\n",
    "if 'purple' in color[2] :\n",
    "    print(\"Puple in color[2] : \",'Yes')\n",
    "    \n",
    "#  2 ชั้น\n",
    "for cols in color :\n",
    "    if 'blue' in cols :\n",
    "            print(\"cols : \",cols)\n",
    "            \n",
    "# list ย่อย i คือ ลำดับเริ่มที่ 0 นับตามความยาวของสมาชิกใน color\n",
    "for i in range(0,len(color)) :\n",
    "#     สมาชิกของ list ย่อย \n",
    "    for j in range(0,len(color[i])) :\n",
    "#         หา black ใน color\n",
    "        if color[i][j] == 'black' :\n",
    "#         แสดง black ว่าอยู่ตำแหน่งใด\n",
    "            print(f'color[{i}][{j}] = black')\n",
    "#     หา yellow ใน color\n",
    "        if color[i][j] == 'yellow' :\n",
    "            print('yellow อยู่ในตำแหน่ง : ',f'color[{i}][{j}] = yellow')\n",
    "            "
   ]
  },
  {
   "cell_type": "code",
   "execution_count": null,
   "metadata": {},
   "outputs": [],
   "source": []
  }
 ],
 "metadata": {
  "kernelspec": {
   "display_name": "Python 3",
   "language": "python",
   "name": "python3"
  },
  "language_info": {
   "codemirror_mode": {
    "name": "ipython",
    "version": 3
   },
   "file_extension": ".py",
   "mimetype": "text/x-python",
   "name": "python",
   "nbconvert_exporter": "python",
   "pygments_lexer": "ipython3",
   "version": "3.8.3"
  }
 },
 "nbformat": 4,
 "nbformat_minor": 4
}
