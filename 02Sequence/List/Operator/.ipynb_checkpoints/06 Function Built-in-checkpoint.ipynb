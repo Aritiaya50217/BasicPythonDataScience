{
 "cells": [
  {
   "cell_type": "code",
   "execution_count": 3,
   "metadata": {},
   "outputs": [
    {
     "name": "stdout",
     "output_type": "stream",
     "text": [
      "[1, 23, 5, 7, 89]\n",
      "Lenght :  5\n",
      "Sum :  125\n"
     ]
    }
   ],
   "source": [
    "a = [1,23,5,7,89]\n",
    "print(a)\n",
    "print(\"Lenght : \",len(a))\n",
    "print(\"Sum : \",sum(a))"
   ]
  },
  {
   "cell_type": "code",
   "execution_count": 4,
   "metadata": {},
   "outputs": [
    {
     "name": "stdout",
     "output_type": "stream",
     "text": [
      "Min :  1\n",
      "Max :  89\n"
     ]
    }
   ],
   "source": [
    "a = [1,23,5,7,89]\n",
    "print(\"Min : \",min(a))\n",
    "print(\"Max : \",max(a))"
   ]
  },
  {
   "cell_type": "code",
   "execution_count": 30,
   "metadata": {},
   "outputs": [
    {
     "name": "stdout",
     "output_type": "stream",
     "text": [
      "Index - value :  0-1\n",
      "Index - value :  1-23\n",
      "Index - value :  2-5\n",
      "Index - value :  3-7\n",
      "Index - value :  4-89\n",
      "Index - value :  5-55\n"
     ]
    }
   ],
   "source": [
    "# enumerate ใช้ร่วมกับ for loop เพื่อเข้าถึงลำดับและค่าสมาชิก\n",
    "a = [1,23,5,7,89,55]\n",
    "for (i,v) in enumerate (a) :\n",
    "#ใช้้ format ดึงค่า index , value\n",
    "    print('Index - value : ',f'{i}-{v}')\n"
   ]
  },
  {
   "cell_type": "code",
   "execution_count": null,
   "metadata": {},
   "outputs": [],
   "source": []
  }
 ],
 "metadata": {
  "kernelspec": {
   "display_name": "Python 3",
   "language": "python",
   "name": "python3"
  },
  "language_info": {
   "codemirror_mode": {
    "name": "ipython",
    "version": 3
   },
   "file_extension": ".py",
   "mimetype": "text/x-python",
   "name": "python",
   "nbconvert_exporter": "python",
   "pygments_lexer": "ipython3",
   "version": "3.8.3"
  }
 },
 "nbformat": 4,
 "nbformat_minor": 4
}
