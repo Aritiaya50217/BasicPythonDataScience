{
 "cells": [
  {
   "cell_type": "code",
   "execution_count": 2,
   "metadata": {},
   "outputs": [
    {
     "name": "stdout",
     "output_type": "stream",
     "text": [
      "[1, 2, 3]\n",
      "[1, 2, 3, 4]\n"
     ]
    }
   ],
   "source": [
    "# append เพิ่มสมาชิกใหม่ ต่อท้าย\n",
    "a = [1,2,3]\n",
    "print(a)\n",
    "a.append(4)\n",
    "print(a)"
   ]
  },
  {
   "cell_type": "code",
   "execution_count": 6,
   "metadata": {},
   "outputs": [
    {
     "name": "stdout",
     "output_type": "stream",
     "text": [
      "a in list :  2\n"
     ]
    }
   ],
   "source": [
    "# count นับจำนวนสมาชิก\n",
    "a  = ['a','b','c','d','a','b','v']\n",
    "print(\"a in list : \",a.count('a'))"
   ]
  },
  {
   "cell_type": "code",
   "execution_count": 10,
   "metadata": {},
   "outputs": [
    {
     "name": "stdout",
     "output_type": "stream",
     "text": [
      "Before :  ['a', 'b', 'c', 'd', 'a', 'b', 'v']\n",
      "After   :  ['a', 'b', 'c', 'd', 'a', 'b', 'v', 'x', 'y', 'z']\n"
     ]
    }
   ],
   "source": [
    "# extend เพิ่มสมาชิกใหม่ในรูปแบบ list ต่อท้ายสมาชิกเดิม\n",
    "a  = ['a','b','c','d','a','b','v']\n",
    "print(\"Before : \",a)\n",
    "a.extend(['x','y','z'])\n",
    "print(\"After   : \",a)"
   ]
  },
  {
   "cell_type": "code",
   "execution_count": 16,
   "metadata": {},
   "outputs": [
    {
     "name": "stdout",
     "output_type": "stream",
     "text": [
      "0\n"
     ]
    }
   ],
   "source": [
    "# index ตรวจลำดับของสมาชิกที่ระบุเป็นตัวแรก (กรณีที่มี สมาชิกซ้ำกัน เจอตัวไหนก่อนแสดงตัวนั้น)\n",
    "a  = ['a','b','c','d','a','b','v']\n",
    "i = a.index('a')\n",
    "print(i)"
   ]
  },
  {
   "cell_type": "code",
   "execution_count": 18,
   "metadata": {},
   "outputs": [
    {
     "name": "stdout",
     "output_type": "stream",
     "text": [
      "เลข 7 อยู่ในลำดับที่ :  6\n"
     ]
    }
   ],
   "source": [
    "number = [1,2,3,4,5,6,7,8,9,0]\n",
    "print(\"เลข 7 อยู่ในลำดับที่ : \",number.index(7))"
   ]
  },
  {
   "cell_type": "code",
   "execution_count": 22,
   "metadata": {},
   "outputs": [
    {
     "name": "stdout",
     "output_type": "stream",
     "text": [
      "[1, 2, 3, 4, 5, 6, 7, 8, 9, 0, 5, 5, 5]\n",
      "มีเลข 5  อยู่ใน list number จำนวน :  4  ตัว\n"
     ]
    }
   ],
   "source": [
    "# ใช้ if ช่วย ในกรณีที่ต้องการนับตัวเลขที่ซ้ำกันภายใน list\n",
    "number = [1,2,3,4,5,6,7,8,9,0,5,5,5]\n",
    "print(number)\n",
    "if 5 in number :\n",
    "    print(\"มีเลข 5  อยู่ใน list number จำนวน : \",number.index(5),' ตัว')"
   ]
  },
  {
   "cell_type": "code",
   "execution_count": 25,
   "metadata": {},
   "outputs": [
    {
     "name": "stdout",
     "output_type": "stream",
     "text": [
      "Before :  [1, 2, 3, 4, 5, 6, 7, 8, 9, 0, 5, 5, 5]\n",
      "After   :  [0.0, 1, 2, 3, 4, 5, 6, 7, 8, 9, 0, 5, 5, 5]\n"
     ]
    }
   ],
   "source": [
    "# insert แทรกสมาชิกใหม่ลงในลำดับที่ระบุ\n",
    "number = [1,2,3,4,5,6,7,8,9,0,5,5,5]\n",
    "print(\"Before : \", number)\n",
    "# .insert(index , value)\n",
    "number.insert(0,0.0)\n",
    "print(\"After   : \",number)"
   ]
  },
  {
   "cell_type": "code",
   "execution_count": 27,
   "metadata": {},
   "outputs": [
    {
     "name": "stdout",
     "output_type": "stream",
     "text": [
      "ค่าที่ถูกลบ :  6\n",
      "After  :  [1, 2, 3, 4, 5, 7, 8, 9, 0, 5, 5, 5]\n"
     ]
    }
   ],
   "source": [
    "# pop อ่านค่าสมาชิกที่ระบุ แล้วลบสมาชิกตัวนั้นออกจาก list\n",
    "number = [1,2,3,4,5,6,7,8,9,0,5,5,5]\n",
    "# .pop(index)\n",
    "p = number.pop(5)\n",
    "print(\"ค่าที่ถูกลบ : \",p)\n",
    "print(\"After  : \",number)"
   ]
  },
  {
   "cell_type": "code",
   "execution_count": 33,
   "metadata": {},
   "outputs": [
    {
     "name": "stdout",
     "output_type": "stream",
     "text": [
      "Before :  [1, 2, 3, 4, 5, 6, 7, 8, 9, 0, 5, 5, 5]\n",
      "After   :  [1, 2, 3, 4, 6, 7, 8, 9, 0, 5, 5, 5]\n"
     ]
    }
   ],
   "source": [
    "# remove ลบสมาชิกที่ระบุออกจาก list\n",
    "number = [1,2,3,4,5,6,7,8,9,0,5,5,5]\n",
    "print(\"Before : \",number)\n",
    "if 5 in number :\n",
    "#     .remove(value)\n",
    "    number.remove(5)\n",
    "print(\"After   : \",number)"
   ]
  },
  {
   "cell_type": "code",
   "execution_count": 37,
   "metadata": {},
   "outputs": [
    {
     "name": "stdout",
     "output_type": "stream",
     "text": [
      "Before :  [1, 2, 3, 4, 5, 6, 7, 8, 9, 0, 5, 5, 5]\n",
      "After   :  [5, 5, 5, 0, 9, 8, 7, 6, 5, 4, 3, 2, 1]\n"
     ]
    }
   ],
   "source": [
    "# reverse เรียงลำดับสมาชิกแบบย้อนกลับ\n",
    "number = [1,2,3,4,5,6,7,8,9,0,5,5,5]\n",
    "print(\"Before : \",number)\n",
    "number.reverse()\n",
    "print(\"After   : \",number)"
   ]
  },
  {
   "cell_type": "code",
   "execution_count": 38,
   "metadata": {},
   "outputs": [
    {
     "name": "stdout",
     "output_type": "stream",
     "text": [
      "Before :  [1, 2, 3, 4, 5, 6, 7, 8, 9, 0, 5, 5, 5]\n",
      "After   :  [0, 1, 2, 3, 4, 5, 5, 5, 5, 6, 7, 8, 9]\n"
     ]
    }
   ],
   "source": [
    "# sort เรียงลำดับสมาชิกจากน้อยไปหามาก\n",
    "number = [1,2,3,4,5,6,7,8,9,0,5,5,5]\n",
    "print(\"Before : \",number)\n",
    "number.sort()\n",
    "print(\"After   : \",number)"
   ]
  },
  {
   "cell_type": "code",
   "execution_count": null,
   "metadata": {},
   "outputs": [],
   "source": []
  }
 ],
 "metadata": {
  "kernelspec": {
   "display_name": "Python 3",
   "language": "python",
   "name": "python3"
  },
  "language_info": {
   "codemirror_mode": {
    "name": "ipython",
    "version": 3
   },
   "file_extension": ".py",
   "mimetype": "text/x-python",
   "name": "python",
   "nbconvert_exporter": "python",
   "pygments_lexer": "ipython3",
   "version": "3.8.3"
  }
 },
 "nbformat": 4,
 "nbformat_minor": 4
}
