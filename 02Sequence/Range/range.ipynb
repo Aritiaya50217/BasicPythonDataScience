{
 "cells": [
  {
   "cell_type": "code",
   "execution_count": 1,
   "metadata": {},
   "outputs": [
    {
     "name": "stdout",
     "output_type": "stream",
     "text": [
      "11\n",
      "12\n",
      "13\n",
      "14\n",
      "15\n",
      "16\n",
      "17\n",
      "18\n",
      "19\n"
     ]
    }
   ],
   "source": [
    "# range(start,stop,step)\n",
    "a = range(11,20)\n",
    "for x in a :\n",
    "    print(x)"
   ]
  },
  {
   "cell_type": "code",
   "execution_count": 16,
   "metadata": {},
   "outputs": [
    {
     "name": "stdout",
     "output_type": "stream",
     "text": [
      "range(1, 10, 2)\n",
      " start : 1 \n",
      " stop: 10 \n",
      " step: 2\n"
     ]
    }
   ],
   "source": [
    "# กรณี range ระบุ step โดยกำหนดขอบเขตข้อมูลเมื่อบวกค่า step ต้องไม่เกิน -1 แต่ถ้าติดลบต้อง start > stop\n",
    "a = range(1,10,2)\n",
    "b = range(2,3,6)\n",
    "c = range(-10,20,10)\n",
    "start = a.start\n",
    "stop = a.stop\n",
    "step = a.step\n",
    "print(a)\n",
    "print(\"\",\"start :\",start,\"\\n\",\"stop:\",stop,\"\\n\",\"step:\",step)"
   ]
  },
  {
   "cell_type": "code",
   "execution_count": null,
   "metadata": {},
   "outputs": [],
   "source": []
  }
 ],
 "metadata": {
  "kernelspec": {
   "display_name": "Python 3",
   "language": "python",
   "name": "python3"
  },
  "language_info": {
   "codemirror_mode": {
    "name": "ipython",
    "version": 3
   },
   "file_extension": ".py",
   "mimetype": "text/x-python",
   "name": "python",
   "nbconvert_exporter": "python",
   "pygments_lexer": "ipython3",
   "version": "3.8.3"
  }
 },
 "nbformat": 4,
 "nbformat_minor": 4
}
