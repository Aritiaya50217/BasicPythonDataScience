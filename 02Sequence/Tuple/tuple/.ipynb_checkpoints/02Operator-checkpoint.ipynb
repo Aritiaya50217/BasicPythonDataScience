{
 "cells": [
  {
   "cell_type": "code",
   "execution_count": 17,
   "metadata": {},
   "outputs": [
    {
     "name": "stdout",
     "output_type": "stream",
     "text": [
      "a + b :  (1, 3, 5, 2, 4, 6, 8)\n",
      "เพิ่ม 10,11,12,13 :  (1, 3, 5, 2, 4, 6, 8, 10, 11, 12, 13)\n",
      "check :  True\n",
      "no\n",
      "เพิ่ม 5 จำนวน 3 ตัวใน tuple :  (5, 5, 5)\n",
      "Length a :  3\n",
      "ผลรวม tuple a : 9\n",
      "ค่าสูงสุดใน tuple a :  5\n"
     ]
    }
   ],
   "source": [
    "# การใช้ operator ร่วมกับ tuple\n",
    "a = (1,3,5)\n",
    "b = (2,4,6) + (8, )\n",
    "c = a + b\n",
    "print(\"a + b : \",c)\n",
    "c += (10,11,12,13)\n",
    "print(\"เพิ่ม 10,11,12,13 : \",c)\n",
    "print(\"check : \",3 in c)\n",
    "\n",
    "if 9 not in c :\n",
    "    print('no')\n",
    "    \n",
    "d = (5 , ) * 3\n",
    "print(\"เพิ่ม 5 จำนวน 3 ตัวใน tuple : \",d)\n",
    "\n",
    "count = len(a)\n",
    "print(\"Length a : \",count)\n",
    "print(\"ผลรวม tuple a :\",sum(a))\n",
    "print(\"ค่าสูงสุดใน tuple a : \",max(a))"
   ]
  },
  {
   "cell_type": "code",
   "execution_count": null,
   "metadata": {},
   "outputs": [],
   "source": []
  }
 ],
 "metadata": {
  "kernelspec": {
   "display_name": "Python 3",
   "language": "python",
   "name": "python3"
  },
  "language_info": {
   "codemirror_mode": {
    "name": "ipython",
    "version": 3
   },
   "file_extension": ".py",
   "mimetype": "text/x-python",
   "name": "python",
   "nbconvert_exporter": "python",
   "pygments_lexer": "ipython3",
   "version": "3.8.3"
  }
 },
 "nbformat": 4,
 "nbformat_minor": 4
}
