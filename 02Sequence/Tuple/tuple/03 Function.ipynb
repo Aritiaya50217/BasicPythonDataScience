{
 "cells": [
  {
   "cell_type": "code",
   "execution_count": 21,
   "metadata": {},
   "outputs": [
    {
     "name": "stdout",
     "output_type": "stream",
     "text": [
      "(1, 3, 5, 5, 5, 7, 9)\n",
      "1\n",
      "5 in tuple :  3\n"
     ]
    }
   ],
   "source": [
    "# function ที่มีอยู่ใน list จะไม่มีอยู่ใน tuple \n",
    "# function ที่ใช้ได้ใน tuple คือ index (), count() เป็นต้น\n",
    "a = (1,3,5,5,5,7,9)\n",
    "print(a)\n",
    "\n",
    "if 3 in a:\n",
    "    print(a.index(3))\n",
    "    \n",
    "print(\"5 in tuple : \",a.count(5))"
   ]
  },
  {
   "cell_type": "code",
   "execution_count": null,
   "metadata": {},
   "outputs": [],
   "source": []
  }
 ],
 "metadata": {
  "kernelspec": {
   "display_name": "Python 3",
   "language": "python",
   "name": "python3"
  },
  "language_info": {
   "codemirror_mode": {
    "name": "ipython",
    "version": 3
   },
   "file_extension": ".py",
   "mimetype": "text/x-python",
   "name": "python",
   "nbconvert_exporter": "python",
   "pygments_lexer": "ipython3",
   "version": "3.8.3"
  }
 },
 "nbformat": 4,
 "nbformat_minor": 4
}
