{
 "cells": [
  {
   "cell_type": "code",
   "execution_count": 5,
   "metadata": {},
   "outputs": [
    {
     "name": "stdout",
     "output_type": "stream",
     "text": [
      "Key : Thailand\n",
      "Key : Japan\n",
      "Key : Korea\n",
      "Thailand in countries\n"
     ]
    }
   ],
   "source": [
    "# keys() อ่านคีย์ทั้งหมด\n",
    "countries =  {'th':'Thailand' , 'jp' :'Japan','kr' : 'Korea'}\n",
    "for key in countries.keys() :\n",
    "    print('Key :',countries[key])\n",
    "    \n",
    "if 'th' in countries.keys():\n",
    "    print('Thailand in countries')"
   ]
  },
  {
   "cell_type": "code",
   "execution_count": 15,
   "metadata": {},
   "outputs": [
    {
     "name": "stdout",
     "output_type": "stream",
     "text": [
      "dict_values([1, 2, 3])\n",
      "1   2   3   \n",
      "1 in count\n",
      "4 not in count\n"
     ]
    }
   ],
   "source": [
    "# values() อ่านค่าทั้งหมด\n",
    "count = {'one' : 1, 'two':2, 'three' : 3}\n",
    "values = count.values()\n",
    "print(values)\n",
    "\n",
    "for v in values :\n",
    "    print(v,' ',end=' ')\n",
    "    \n",
    "if 1 in count.values():\n",
    "    print('\\n1 in count')\n",
    "    \n",
    "if 4 not in count.values():\n",
    "    print('4 not in count')"
   ]
  },
  {
   "cell_type": "code",
   "execution_count": 19,
   "metadata": {},
   "outputs": [
    {
     "name": "stdout",
     "output_type": "stream",
     "text": [
      "name : A\n",
      "age : 23\n",
      "height : 160\n",
      "single : True\n"
     ]
    }
   ],
   "source": [
    "# items() อ่านรายการทั้งหมด\n",
    "info = {'name' : 'A' , 'age':23, 'height' : 160,'single' : True}\n",
    "for (k,v) in info.items():\n",
    "#     ใช้ format ดึงค่าออกมาทั้งหมด\n",
    "    print(f'{k} : {v}')\n"
   ]
  },
  {
   "cell_type": "code",
   "execution_count": 22,
   "metadata": {},
   "outputs": [
    {
     "name": "stdout",
     "output_type": "stream",
     "text": [
      "ค่า value two :  2\n"
     ]
    }
   ],
   "source": [
    "# get(key) อ่านค่าสมาชิกที่มีคีย์ตามที่ระบุ\n",
    "a =  {'one' : 1, 'two':2, 'three' : 3}\n",
    "print('ค่า value two : ',a.get('two'))"
   ]
  },
  {
   "cell_type": "code",
   "execution_count": 33,
   "metadata": {},
   "outputs": [
    {
     "name": "stdout",
     "output_type": "stream",
     "text": [
      "{'one': 1, 'two': 2, 'three': 3, 'four': 4}\n",
      "{'two': 2, 'three': 3, 'four': 4}\n",
      "{}\n"
     ]
    }
   ],
   "source": [
    "# pop(key)  อ่านค่าสมาชิกที่มีคีย์ตามที่ระบุ แล้วลบออกไป\n",
    "b =  {'one' : 1, 'two':2, 'three' : 3,'four' : 4}\n",
    "print(b)\n",
    "# เอา 'one' ออก\n",
    "b.pop('one')\n",
    "print(b)\n",
    "# ลบออกทั้งหมด\n",
    "b.clear()\n",
    "print(b)"
   ]
  },
  {
   "cell_type": "code",
   "execution_count": null,
   "metadata": {},
   "outputs": [],
   "source": []
  }
 ],
 "metadata": {
  "kernelspec": {
   "display_name": "Python 3",
   "language": "python",
   "name": "python3"
  },
  "language_info": {
   "codemirror_mode": {
    "name": "ipython",
    "version": 3
   },
   "file_extension": ".py",
   "mimetype": "text/x-python",
   "name": "python",
   "nbconvert_exporter": "python",
   "pygments_lexer": "ipython3",
   "version": "3.8.3"
  }
 },
 "nbformat": 4,
 "nbformat_minor": 4
}
