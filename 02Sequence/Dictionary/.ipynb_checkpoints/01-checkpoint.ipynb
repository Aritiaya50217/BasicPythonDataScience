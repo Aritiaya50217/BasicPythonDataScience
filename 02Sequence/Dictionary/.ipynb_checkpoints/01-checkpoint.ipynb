{
 "cells": [
  {
   "cell_type": "code",
   "execution_count": 1,
   "metadata": {},
   "outputs": [
    {
     "name": "stdout",
     "output_type": "stream",
     "text": [
      "{0: 'zero', 1: 'one', 2: 'two'}\n"
     ]
    }
   ],
   "source": [
    "# {key : value } key ต้องไม่ซ้ำกัน\n",
    "nums = {0 : 'zero' , 1:'one',2:'two'}\n",
    "print(nums)"
   ]
  },
  {
   "cell_type": "code",
   "execution_count": 7,
   "metadata": {},
   "outputs": [
    {
     "name": "stdout",
     "output_type": "stream",
     "text": [
      "thai :  Thailand\n",
      "Japan\n"
     ]
    }
   ],
   "source": [
    "# การเข้าถึงสมาชิก\n",
    "countries = {'th' : 'Thailand' , 'jp':'Japan','kr' : 'Korea'}\n",
    "thai = countries['th']\n",
    "print(\"thai : \",thai)\n",
    "\n",
    "print(countries['jp'])"
   ]
  },
  {
   "cell_type": "code",
   "execution_count": 11,
   "metadata": {},
   "outputs": [
    {
     "name": "stdout",
     "output_type": "stream",
     "text": [
      "สมาชิกใน odd ลำดับที่ 0 :  1\n",
      "สมาชิกใน even ลำดับที่ 1 :  4\n"
     ]
    }
   ],
   "source": [
    "# หากสมาชิกเป็นลำดับหรือเลขรายการ ต้องเพิ่มวงเล็บ [] อีกอันสำหรับระบุลำดับในรายการ\n",
    "odd_evens = {'odd' : [1,3,5,7,9] , 'even' : [2,4,6,8]}\n",
    "a = odd_evens['odd'][0]\n",
    "b = odd_evens['even'][1]\n",
    "print(\"สมาชิกใน odd ลำดับที่ 0 : \",a)\n",
    "print(\"สมาชิกใน even ลำดับที่ 1 : \",b)"
   ]
  },
  {
   "cell_type": "code",
   "execution_count": 22,
   "metadata": {},
   "outputs": [
    {
     "name": "stdout",
     "output_type": "stream",
     "text": [
      "Key :  Thailand\n",
      "Key :  Japan\n",
      "Key :  Korea\n"
     ]
    }
   ],
   "source": [
    "# เข้าถึงด้วยลูป for...inr\n",
    "countries = {'th' : 'Thailand' , 'jp':'Japan','kr' : 'Korea'}\n",
    "for key in countries  :\n",
    "    print(\"Key : \",countries[key])"
   ]
  },
  {
   "cell_type": "code",
   "execution_count": 18,
   "metadata": {},
   "outputs": [
    {
     "name": "stdout",
     "output_type": "stream",
     "text": [
      "odd :  1   3   5   7   9   \n",
      "even :  2   4   6   8   \n"
     ]
    }
   ],
   "source": [
    "odd_evens = {'odd' : [1,3,5,7,9] , 'even' : [2,4,6,8]}\n",
    "for key in odd_evens :\n",
    "    print(key, ': ' , end = ' ')\n",
    "    for v in odd_evens[key] :\n",
    "        print(v , ' ', end = ' ')\n",
    "    print()"
   ]
  },
  {
   "cell_type": "code",
   "execution_count": 42,
   "metadata": {},
   "outputs": [
    {
     "name": "stdout",
     "output_type": "stream",
     "text": [
      "countries :  {'th': 'Thailand', 'jp': 'Japan', 'kr': 'Korea', 'usa': 'America'}\n",
      "th in countries :  True\n",
      "JP in countries :  False\n",
      "Length :  4\n",
      "Delete 'th' :  {'jp': 'Japan', 'kr': 'Korea', 'usa': 'America'}\n"
     ]
    }
   ],
   "source": [
    "# การใช้งาน Operation ใช้ in , not in เพื่อตรวจสอบ\n",
    "countries = {'th' : 'Thailand' , 'jp':'Japan','kr' : 'Korea','usa' : 'America'}\n",
    "print(\"countries : \",countries)\n",
    "a = 'th' in countries\n",
    "\n",
    "if 'ok' in countries :\n",
    "    print('Yes')\n",
    "\n",
    "print(\"th in countries : \",a) \n",
    "print( \"JP in countries : \", 'JP' in countries)\n",
    "\n",
    "# length\n",
    "print(\"Length : \",len(countries))\n",
    "\n",
    "# delete\n",
    "del countries['th']\n",
    "print(\"Delete 'th' : \",countries )"
   ]
  },
  {
   "cell_type": "code",
   "execution_count": null,
   "metadata": {},
   "outputs": [],
   "source": []
  }
 ],
 "metadata": {
  "kernelspec": {
   "display_name": "Python 3",
   "language": "python",
   "name": "python3"
  },
  "language_info": {
   "codemirror_mode": {
    "name": "ipython",
    "version": 3
   },
   "file_extension": ".py",
   "mimetype": "text/x-python",
   "name": "python",
   "nbconvert_exporter": "python",
   "pygments_lexer": "ipython3",
   "version": "3.8.3"
  }
 },
 "nbformat": 4,
 "nbformat_minor": 4
}
