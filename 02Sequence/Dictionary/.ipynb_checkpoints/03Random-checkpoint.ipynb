{
 "cells": [
  {
   "cell_type": "code",
   "execution_count": 25,
   "metadata": {},
   "outputs": [
    {
     "name": "stdout",
     "output_type": "stream",
     "text": [
      "สุ่มค่า a =  4\n",
      "สุ่มค่าทศนิยม b =  0.9580850337126566\n",
      "สุ่มค่าตั้งแต่ 1.5 - 2.9 =  2.207573198324693\n",
      "สุ่มค่าจาก choice =  10\n",
      "สุ่มค่าจาก choice =  one\n"
     ]
    }
   ],
   "source": [
    "# random()  สร้างเลขสุ่มที่มีค่าระหว่าง 0.0 - 1.0\n",
    "# uniform(a,b) สร้างเลขสุ่มชนิดทศนิยม ที่มีค่าระหว่าง a - b\n",
    "# randint(a,b)  สร้างเลขสุ่มชนิดจำนวนเต็ม ที่มีค่าระหว่าง a - b\n",
    "# choice(sequence)  สุ่มเลือกค่าใดค่าหนึ่งที่อยู่ใน sequence ที่ระบุ ซึ่งถ้ากำหนด เป็นสตริงก็จะสุ่มเลือกอักขระอันใดอันหนึ่ง\n",
    "# randomrange(start,stop,step)   สร้างตัวเลขสุ่มที่อยู่ในช่วงระหว่าง start ถึงค่าก่อน stop(ไม่นับรวมค่า stop) โดยเพิ่มค่าตาม step ที่ระบุไว้\n",
    "\n",
    "# ต้อง import module\n",
    "import random\n",
    "\n",
    "a = random.randint(1,10)\n",
    "print(\"สุ่มค่า a = \",a)\n",
    "\n",
    "b = random.random()\n",
    "print('สุ่มค่าทศนิยม b = ',b)\n",
    "\n",
    "c = random.uniform(1.5,2.9)\n",
    "print('สุ่มค่าตั้งแต่ 1.5 - 2.9 = ',c)\n",
    "\n",
    "d = random.choice([10,20,30,40])\n",
    "print('สุ่มค่าจาก choice = ',d)\n",
    "\n",
    "e = random.choice(['one','two','three'])\n",
    "print('สุ่มค่าจาก choice = ',e)"
   ]
  },
  {
   "cell_type": "code",
   "execution_count": null,
   "metadata": {},
   "outputs": [],
   "source": []
  },
  {
   "cell_type": "code",
   "execution_count": null,
   "metadata": {},
   "outputs": [],
   "source": []
  }
 ],
 "metadata": {
  "kernelspec": {
   "display_name": "Python 3",
   "language": "python",
   "name": "python3"
  },
  "language_info": {
   "codemirror_mode": {
    "name": "ipython",
    "version": 3
   },
   "file_extension": ".py",
   "mimetype": "text/x-python",
   "name": "python",
   "nbconvert_exporter": "python",
   "pygments_lexer": "ipython3",
   "version": "3.8.3"
  }
 },
 "nbformat": 4,
 "nbformat_minor": 4
}
