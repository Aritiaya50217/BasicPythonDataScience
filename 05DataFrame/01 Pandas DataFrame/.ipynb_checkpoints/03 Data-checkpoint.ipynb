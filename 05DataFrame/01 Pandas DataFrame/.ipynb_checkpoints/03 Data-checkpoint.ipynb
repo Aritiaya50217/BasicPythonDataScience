{
 "cells": [
  {
   "cell_type": "code",
   "execution_count": 14,
   "metadata": {},
   "outputs": [
    {
     "data": {
      "text/plain": [
       "0    11\n",
       "1    55\n",
       "2    10\n",
       "Name: 0, dtype: int64"
      ]
     },
     "metadata": {},
     "output_type": "display_data"
    },
    {
     "data": {
      "text/plain": [
       "0    33\n",
       "1    77\n",
       "2     3\n",
       "Name: 2, dtype: int64"
      ]
     },
     "metadata": {},
     "output_type": "display_data"
    },
    {
     "data": {
      "text/plain": [
       "11"
      ]
     },
     "metadata": {},
     "output_type": "display_data"
    },
    {
     "data": {
      "text/plain": [
       "20"
      ]
     },
     "metadata": {},
     "output_type": "display_data"
    }
   ],
   "source": [
    "# การเลือกข้อมูลโดยระบุแถวและคอลัมน์\n",
    "# df [ลำดับคอลัมน์]  อ้างอิงถึงข้อมูลทั้งคอลัมน์\n",
    "# df [ลำดับคอลัมน์] [ลำดับแถว]  ถ้าต้องการอ้างอิงถึงข้อมูลในเซลล์ใดเซลล์หนึ่ง ให้ระบุทั้งแถวและคอลัมน์\n",
    "\n",
    "import pandas as pd\n",
    "import numpy as np\n",
    " \n",
    "df = pd.DataFrame([[11,22,33,44] ,\n",
    "                              [55,66,77,88],\n",
    "                              [10, 20, 3,5]])\n",
    " \n",
    "display( df[0] , df[2] , df[0][0] , df[1][2] )\n"
   ]
  },
  {
   "cell_type": "code",
   "execution_count": 22,
   "metadata": {},
   "outputs": [
    {
     "name": "stdout",
     "output_type": "stream",
     "text": [
      "แสดง Price : \n"
     ]
    },
    {
     "data": {
      "text/plain": [
       "p1    200\n",
       "p2    300\n",
       "p3    700\n",
       "p4     66\n",
       "p5     88\n",
       "Name: price, dtype: int64"
      ]
     },
     "metadata": {},
     "output_type": "display_data"
    },
    {
     "name": "stdout",
     "output_type": "stream",
     "text": [
      "แสดงข้อมูล sales ลำดับที่ 2 : \n"
     ]
    },
    {
     "data": {
      "text/plain": [
       "77"
      ]
     },
     "metadata": {},
     "output_type": "display_data"
    },
    {
     "name": "stdout",
     "output_type": "stream",
     "text": [
      "แสดง stock ลำดับแรก ถึง ก่อนสุดท้าย : \n"
     ]
    },
    {
     "data": {
      "text/plain": [
       "p1    9\n",
       "p2    8\n",
       "p3    8\n",
       "p4    6\n",
       "Name: stock, dtype: int64"
      ]
     },
     "metadata": {},
     "output_type": "display_data"
    }
   ],
   "source": [
    "# ต้องการอ้างอิงข้อมูลในเซลล์ใดเซลล์หนึ่ง  ให้ระบุลำดับหรือชื่ออ้างอิงของแถวต่อท้ายเข้าไป\n",
    "\n",
    "import pandas as pd\n",
    "import numpy as np\n",
    "\n",
    "data = { 'price' : [200,300,700,66,88], \n",
    "              'sales' : [0,89,77,77,5],\n",
    "               'stock' : [9,8,8,6,6],\n",
    "               'discount' : [5,7,8,6,9]  }\n",
    "\n",
    "df = pd.DataFrame(data ,index=['p1','p2','p3','p4','p5'])\n",
    "print('แสดง Price : ')\n",
    "display(df['price'])\n",
    "\n",
    "print('แสดงข้อมูล sales ลำดับที่ 2 : ')\n",
    "display(df['sales'][2])\n",
    "\n",
    "print('แสดง stock ลำดับแรก ถึง ก่อนสุดท้าย : ')\n",
    "display(df['stock'][:4])\n"
   ]
  },
  {
   "cell_type": "code",
   "execution_count": null,
   "metadata": {},
   "outputs": [],
   "source": []
  }
 ],
 "metadata": {
  "kernelspec": {
   "display_name": "Python 3",
   "language": "python",
   "name": "python3"
  },
  "language_info": {
   "codemirror_mode": {
    "name": "ipython",
    "version": 3
   },
   "file_extension": ".py",
   "mimetype": "text/x-python",
   "name": "python",
   "nbconvert_exporter": "python",
   "pygments_lexer": "ipython3",
   "version": "3.8.3"
  }
 },
 "nbformat": 4,
 "nbformat_minor": 4
}
